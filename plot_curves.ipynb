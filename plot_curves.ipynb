{
 "cells": [
  {
   "cell_type": "code",
   "execution_count": 20,
   "metadata": {},
   "outputs": [],
   "source": [
    "import numpy as np\n",
    "from matplotlib import pyplot as plt\n"
   ]
  },
  {
   "cell_type": "code",
   "execution_count": 21,
   "metadata": {},
   "outputs": [],
   "source": [
    "# Put the full file path to the training log text file here\n",
    "# TODO: change the name\n",
    "txt_file = '/home/user1/denoising/your_models/your_model_001/training_log.txt'"
   ]
  },
  {
   "cell_type": "code",
   "execution_count": 22,
   "metadata": {},
   "outputs": [],
   "source": [
    "all_epochs = []\n",
    "all_train_loss = []\n",
    "all_val_loss = []\n",
    "\n",
    "# Open text file, read line-by-line, and extract epoch number, train loss, and validation loss\n",
    "with open(txt_file, 'r') as file:\n",
    "    for line in file:\n",
    "        if 'Epoch' in line:\n",
    "            epoch_num = int(line.split(' ')[-1])\n",
    "            all_epochs.append(epoch_num)\n",
    "        if 'Train loss' in line:\n",
    "            train_loss = float(line.split(' ')[-1])\n",
    "            all_train_loss.append(train_loss)\n",
    "        if 'Validation loss' in line:\n",
    "            val_loss = float(line.split(' ')[-1])\n",
    "            all_val_loss.append(val_loss)\n"
   ]
  },
  {
   "cell_type": "code",
   "execution_count": null,
   "metadata": {},
   "outputs": [],
   "source": [
    "\n",
    "# Plot loss curves\n",
    "num_points = min(len(all_epochs), len(all_train_loss), len(all_val_loss))\n",
    "\n",
    "plt.figure()\n",
    "plt.plot(all_epochs[:num_points], all_train_loss[:num_points], label='Train loss')\n",
    "plt.plot(all_epochs[:num_points], all_val_loss[:num_points], label='Validation loss')\n",
    "plt.xlabel('Epoch')\n",
    "plt.ylabel('Loss')\n",
    "#plt.ylim([0, 200])\n",
    "plt.title('Loss curves')\n",
    "plt.legend()\n",
    "plt.show()\n",
    "plt.close()"
   ]
  }
 ],
 "metadata": {
  "kernelspec": {
   "display_name": "ai5LCEnv",
   "language": "python",
   "name": "python3"
  },
  "language_info": {
   "codemirror_mode": {
    "name": "ipython",
    "version": 3
   },
   "file_extension": ".py",
   "mimetype": "text/x-python",
   "name": "python",
   "nbconvert_exporter": "python",
   "pygments_lexer": "ipython3",
   "version": "3.8.19"
  }
 },
 "nbformat": 4,
 "nbformat_minor": 2
}
